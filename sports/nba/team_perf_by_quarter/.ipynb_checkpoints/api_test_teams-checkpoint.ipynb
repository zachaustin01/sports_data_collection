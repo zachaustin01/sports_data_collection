{
 "cells": [
  {
   "cell_type": "code",
   "execution_count": 1,
   "metadata": {},
   "outputs": [],
   "source": [
    "import time\n",
    "import math as m\n",
    "import pandas as pd\n",
    "import requests\n",
    "from nba_api.stats.endpoints import leaguegamefinder, boxscoretraditionalv2\n",
    "from nba_api.stats.library.parameters import SeasonType, SeasonID, LeagueID"
   ]
  },
  {
   "cell_type": "code",
   "execution_count": 2,
   "metadata": {},
   "outputs": [],
   "source": [
    "season_yr = '2021-22'"
   ]
  },
  {
   "cell_type": "code",
   "execution_count": 3,
   "metadata": {},
   "outputs": [],
   "source": [
    "gamefinder = leaguegamefinder.LeagueGameFinder(season_type_nullable=SeasonType.regular,season_nullable=season_yr,\n",
    "                                               league_id_nullable=LeagueID.nba)"
   ]
  },
  {
   "cell_type": "code",
   "execution_count": 4,
   "metadata": {},
   "outputs": [],
   "source": [
    "games = gamefinder.get_data_frames()[0]"
   ]
  },
  {
   "cell_type": "code",
   "execution_count": 6,
   "metadata": {},
   "outputs": [],
   "source": [
    "games = games[games['GAME_DATE']<'2022-03-28']"
   ]
  },
  {
   "cell_type": "code",
   "execution_count": 36,
   "metadata": {},
   "outputs": [
    {
     "data": {
      "text/plain": [
       "1120"
      ]
     },
     "execution_count": 36,
     "metadata": {},
     "output_type": "execute_result"
    }
   ],
   "source": [
    "all_games = list(games['GAME_ID'].unique())\n",
    "len(all_games)"
   ]
  },
  {
   "cell_type": "code",
   "execution_count": 42,
   "metadata": {},
   "outputs": [],
   "source": [
    "games.to_csv(f'C:/Users/zacha/OneDrive/Desktop/sports_data_storage/sports/nba/team_perf_by_quarter/game_summaries.csv',index = False)"
   ]
  },
  {
   "cell_type": "code",
   "execution_count": 37,
   "metadata": {},
   "outputs": [],
   "source": [
    "def get_box_score_df(g_id,ep):\n",
    "    bs = boxscoretraditionalv2.BoxScoreTraditionalV2(\n",
    "        game_id = g_id,\n",
    "        range_type = 2,\n",
    "        start_range = 7200*(ep-1),\n",
    "        end_range = 7200*ep\n",
    "            ).get_data_frames()\n",
    "    return bs"
   ]
  },
  {
   "cell_type": "code",
   "execution_count": 7,
   "metadata": {},
   "outputs": [],
   "source": [
    "t = get_box_score_df(all_games[0],2)"
   ]
  },
  {
   "cell_type": "code",
   "execution_count": 38,
   "metadata": {},
   "outputs": [],
   "source": [
    "from time import sleep"
   ]
  },
  {
   "cell_type": "code",
   "execution_count": 11,
   "metadata": {},
   "outputs": [],
   "source": [
    "# old = pd.read_csv('C:/Users/zacha/OneDrive/Desktop/sports_data_storage/sports/nba/team_perf_by_quarter/player_bs_q3.csv')"
   ]
  },
  {
   "cell_type": "code",
   "execution_count": 25,
   "metadata": {},
   "outputs": [],
   "source": [
    "# old_g_ids = list(old['GAME_ID'].unique())\n",
    "# len(old_g_ids)\n",
    "# found_ids = ['00' + str(x) for x in old_g_ids]"
   ]
  },
  {
   "cell_type": "code",
   "execution_count": 28,
   "metadata": {},
   "outputs": [],
   "source": [
    "# li_dif = [i for i in found_ids + all_games if i not in all_games or i not in found_ids]"
   ]
  },
  {
   "cell_type": "code",
   "execution_count": 31,
   "metadata": {},
   "outputs": [],
   "source": [
    "# all_games = li_dif"
   ]
  },
  {
   "cell_type": "code",
   "execution_count": 39,
   "metadata": {},
   "outputs": [],
   "source": [
    "player_bs = []\n",
    "team_bs = []\n",
    "team_bs_2 = []\n",
    "\n",
    "found_ids = []"
   ]
  },
  {
   "cell_type": "code",
   "execution_count": 40,
   "metadata": {},
   "outputs": [
    {
     "name": "stdout",
     "output_type": "stream",
     "text": [
      "Compiling 3Q results for 1120 games\n",
      "5 games compiled\n",
      "10 games compiled\n",
      "15 games compiled\n",
      "20 games compiled\n",
      "25 games compiled\n",
      "30 games compiled\n",
      "35 games compiled\n",
      "40 games compiled\n",
      "45 games compiled\n",
      "50 games compiled\n",
      "55 games compiled\n",
      "60 games compiled\n",
      "65 games compiled\n",
      "70 games compiled\n",
      "75 games compiled\n",
      "80 games compiled\n",
      "85 games compiled\n",
      "90 games compiled\n",
      "95 games compiled\n",
      "100 games compiled\n",
      "105 games compiled\n",
      "110 games compiled\n",
      "115 games compiled\n",
      "120 games compiled\n",
      "125 games compiled\n",
      "130 games compiled\n",
      "135 games compiled\n",
      "140 games compiled\n",
      "145 games compiled\n",
      "150 games compiled\n",
      "155 games compiled\n",
      "160 games compiled\n",
      "165 games compiled\n",
      "170 games compiled\n",
      "175 games compiled\n",
      "180 games compiled\n",
      "185 games compiled\n",
      "190 games compiled\n",
      "195 games compiled\n",
      "200 games compiled\n",
      "205 games compiled\n",
      "210 games compiled\n",
      "215 games compiled\n",
      "220 games compiled\n",
      "225 games compiled\n",
      "230 games compiled\n",
      "235 games compiled\n",
      "240 games compiled\n",
      "245 games compiled\n",
      "250 games compiled\n",
      "255 games compiled\n",
      "260 games compiled\n",
      "265 games compiled\n",
      "270 games compiled\n",
      "275 games compiled\n",
      "280 games compiled\n",
      "285 games compiled\n",
      "290 games compiled\n",
      "295 games compiled\n",
      "300 games compiled\n",
      "305 games compiled\n",
      "310 games compiled\n",
      "315 games compiled\n",
      "320 games compiled\n",
      "325 games compiled\n",
      "330 games compiled\n",
      "335 games compiled\n",
      "340 games compiled\n",
      "345 games compiled\n",
      "350 games compiled\n",
      "355 games compiled\n",
      "360 games compiled\n",
      "365 games compiled\n",
      "370 games compiled\n",
      "375 games compiled\n",
      "380 games compiled\n",
      "385 games compiled\n",
      "390 games compiled\n",
      "395 games compiled\n",
      "400 games compiled\n",
      "405 games compiled\n",
      "410 games compiled\n",
      "415 games compiled\n",
      "420 games compiled\n",
      "425 games compiled\n",
      "430 games compiled\n",
      "435 games compiled\n",
      "440 games compiled\n",
      "445 games compiled\n",
      "450 games compiled\n",
      "455 games compiled\n",
      "460 games compiled\n",
      "465 games compiled\n",
      "470 games compiled\n",
      "475 games compiled\n",
      "480 games compiled\n",
      "485 games compiled\n",
      "490 games compiled\n",
      "495 games compiled\n",
      "500 games compiled\n",
      "505 games compiled\n",
      "510 games compiled\n",
      "515 games compiled\n",
      "520 games compiled\n",
      "525 games compiled\n",
      "530 games compiled\n",
      "535 games compiled\n",
      "540 games compiled\n",
      "545 games compiled\n",
      "550 games compiled\n",
      "555 games compiled\n",
      "560 games compiled\n",
      "565 games compiled\n",
      "570 games compiled\n",
      "575 games compiled\n",
      "580 games compiled\n",
      "585 games compiled\n",
      "590 games compiled\n",
      "595 games compiled\n",
      "600 games compiled\n",
      "605 games compiled\n",
      "610 games compiled\n",
      "615 games compiled\n",
      "620 games compiled\n",
      "625 games compiled\n",
      "630 games compiled\n",
      "635 games compiled\n",
      "640 games compiled\n",
      "645 games compiled\n",
      "650 games compiled\n",
      "655 games compiled\n",
      "660 games compiled\n",
      "665 games compiled\n",
      "670 games compiled\n",
      "675 games compiled\n",
      "680 games compiled\n",
      "685 games compiled\n",
      "690 games compiled\n",
      "695 games compiled\n",
      "700 games compiled\n",
      "705 games compiled\n",
      "710 games compiled\n",
      "715 games compiled\n",
      "720 games compiled\n",
      "725 games compiled\n",
      "730 games compiled\n",
      "735 games compiled\n",
      "740 games compiled\n",
      "745 games compiled\n",
      "750 games compiled\n",
      "755 games compiled\n",
      "760 games compiled\n",
      "765 games compiled\n",
      "770 games compiled\n",
      "775 games compiled\n",
      "780 games compiled\n",
      "785 games compiled\n",
      "790 games compiled\n",
      "795 games compiled\n",
      "800 games compiled\n",
      "805 games compiled\n",
      "810 games compiled\n",
      "815 games compiled\n",
      "820 games compiled\n",
      "825 games compiled\n",
      "830 games compiled\n",
      "835 games compiled\n",
      "840 games compiled\n",
      "845 games compiled\n",
      "850 games compiled\n",
      "855 games compiled\n",
      "860 games compiled\n",
      "865 games compiled\n",
      "870 games compiled\n",
      "875 games compiled\n",
      "880 games compiled\n",
      "885 games compiled\n",
      "890 games compiled\n",
      "895 games compiled\n",
      "900 games compiled\n",
      "905 games compiled\n",
      "910 games compiled\n",
      "915 games compiled\n",
      "920 games compiled\n",
      "925 games compiled\n",
      "930 games compiled\n",
      "935 games compiled\n",
      "940 games compiled\n",
      "945 games compiled\n",
      "950 games compiled\n",
      "955 games compiled\n",
      "960 games compiled\n",
      "965 games compiled\n",
      "970 games compiled\n",
      "975 games compiled\n",
      "980 games compiled\n",
      "985 games compiled\n",
      "990 games compiled\n",
      "995 games compiled\n",
      "1000 games compiled\n",
      "1005 games compiled\n",
      "1010 games compiled\n",
      "1015 games compiled\n",
      "1020 games compiled\n",
      "1025 games compiled\n",
      "1030 games compiled\n",
      "1035 games compiled\n",
      "1040 games compiled\n",
      "1045 games compiled\n",
      "1050 games compiled\n",
      "1055 games compiled\n",
      "1060 games compiled\n",
      "1065 games compiled\n",
      "1070 games compiled\n",
      "1075 games compiled\n",
      "1080 games compiled\n",
      "1085 games compiled\n",
      "1090 games compiled\n",
      "1095 games compiled\n",
      "1100 games compiled\n",
      "1105 games compiled\n",
      "1110 games compiled\n",
      "1115 games compiled\n",
      "1120 games compiled\n"
     ]
    }
   ],
   "source": [
    "ep = 3\n",
    "print(f'Compiling {ep}Q results for {len(all_games)} games')\n",
    "\n",
    "count = 0\n",
    "for g_id in all_games:\n",
    "\n",
    "    count += 1\n",
    "\n",
    "    \n",
    "    if g_id not in found_ids:\n",
    "        if count % 5 == 0:\n",
    "            print(f'{count} games compiled')\n",
    "        try:\n",
    "            t = get_box_score_df(g_id,ep)\n",
    "            player_bs.append(t[0])\n",
    "            team_bs.append(t[1])\n",
    "            team_bs_2.append(t[2])\n",
    "            sleep(1)\n",
    "        except:\n",
    "            print(f'exception in game {g_id}')\n",
    "            pass\n",
    "player_df = pd.concat(player_bs)\n",
    "team_df = pd.concat(team_bs)\n",
    "team_df_2 = pd.concat(team_bs_2)\n",
    "\n",
    "player_df.to_csv(f'C:/Users/zacha/OneDrive/Desktop/sports_data_storage/sports/nba/team_perf_by_quarter/player_bs_q{ep}.csv',index = False)\n",
    "team_df.to_csv(f'C:/Users/zacha/OneDrive/Desktop/sports_data_storage/sports/nba/team_perf_by_quarter/team_bs_q{ep}.csv',index = False)\n",
    "team_df_2.to_csv(f'C:/Users/zacha/OneDrive/Desktop/sports_data_storage/sports/nba/team_perf_by_quarter/team_bs_2_q{ep}.csv',index = False)"
   ]
  },
  {
   "cell_type": "code",
   "execution_count": 18,
   "metadata": {},
   "outputs": [],
   "source": [
    "team_df = pd.concat(team_bs)"
   ]
  },
  {
   "cell_type": "code",
   "execution_count": 19,
   "metadata": {},
   "outputs": [
    {
     "data": {
      "text/plain": [
       "1120"
      ]
     },
     "execution_count": 19,
     "metadata": {},
     "output_type": "execute_result"
    }
   ],
   "source": [
    "len(team_df['GAME_ID'].unique())"
   ]
  },
  {
   "cell_type": "code",
   "execution_count": 16,
   "metadata": {},
   "outputs": [],
   "source": [
    "found_ids = list(team_df['GAME_ID'].unique())"
   ]
  },
  {
   "cell_type": "code",
   "execution_count": null,
   "metadata": {},
   "outputs": [],
   "source": [
    "player_df = pd.concat(player_bs)\n",
    "team_df = pd.concat(team_bs)\n",
    "team_df_2 = pd.concat(team_bs_2)"
   ]
  },
  {
   "cell_type": "code",
   "execution_count": null,
   "metadata": {},
   "outputs": [],
   "source": [
    "player_df.to_csv(f'C:/Users/zacha/OneDrive/Desktop/sports_data_storage/sports/nba/team_perf_by_quarter/player_bs_q{ep}.csv',index = False)\n",
    "team_df.to_csv(f'C:/Users/zacha/OneDrive/Desktop/sports_data_storage/sports/nba/team_perf_by_quarter/team_bs_q{ep}.csv',index = False)\n",
    "team_df_2.to_csv(f'C:/Users/zacha/OneDrive/Desktop/sports_data_storage/sports/nba/team_perf_by_quarter/team_bs_2_q{ep}.csv',index = False)"
   ]
  }
 ],
 "metadata": {
  "kernelspec": {
   "display_name": "Python 3",
   "language": "python",
   "name": "python3"
  },
  "language_info": {
   "codemirror_mode": {
    "name": "ipython",
    "version": 3
   },
   "file_extension": ".py",
   "mimetype": "text/x-python",
   "name": "python",
   "nbconvert_exporter": "python",
   "pygments_lexer": "ipython3",
   "version": "3.8.3"
  }
 },
 "nbformat": 4,
 "nbformat_minor": 4
}
