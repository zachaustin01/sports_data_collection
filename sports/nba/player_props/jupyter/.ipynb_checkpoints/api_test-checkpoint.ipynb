{
 "cells": [
  {
   "cell_type": "code",
   "execution_count": 22,
   "metadata": {},
   "outputs": [],
   "source": [
    "import time\n",
    "import math as m\n",
    "import pandas as pd\n",
    "import requests\n",
    "from nba_api.stats.endpoints import leaguegamefinder, boxscoretraditionalv2\n",
    "from nba_api.stats.library.parameters import SeasonType, SeasonID, LeagueID"
   ]
  },
  {
   "cell_type": "code",
   "execution_count": 23,
   "metadata": {},
   "outputs": [],
   "source": [
    "season_yr = '2021-22'"
   ]
  },
  {
   "cell_type": "code",
   "execution_count": 24,
   "metadata": {},
   "outputs": [],
   "source": [
    "gamefinder = leaguegamefinder.LeagueGameFinder(season_type_nullable=SeasonType.regular,season_nullable=season_yr,\n",
    "                                               league_id_nullable=LeagueID.nba)"
   ]
  },
  {
   "cell_type": "code",
   "execution_count": 25,
   "metadata": {},
   "outputs": [],
   "source": [
    "games = gamefinder.get_data_frames()[0]"
   ]
  },
  {
   "cell_type": "code",
   "execution_count": 26,
   "metadata": {},
   "outputs": [],
   "source": [
    "all_games = list(games['GAME_ID'].unique())"
   ]
  },
  {
   "cell_type": "code",
   "execution_count": 27,
   "metadata": {},
   "outputs": [],
   "source": [
    "def get_box_score_df(g_id):\n",
    "    bs = boxscoretraditionalv2.BoxScoreTraditionalV2(game_id = g_id).get_data_frames()[0]\n",
    "    return bs"
   ]
  },
  {
   "cell_type": "code",
   "execution_count": null,
   "metadata": {},
   "outputs": [
    {
     "name": "stdout",
     "output_type": "stream",
     "text": [
      "Reading 566 games from NBA_API\n",
      "[===================                               ] 38%"
     ]
    }
   ],
   "source": [
    "from time import sleep\n",
    "import sys\n",
    "\n",
    "all_results = []\n",
    "\n",
    "N = len(all_games)\n",
    "\n",
    "print(f\"Reading {N} games from NBA_API\")\n",
    "\n",
    "n = 0\n",
    "i = 0\n",
    "partition = int(N/50)\n",
    "for g_id in all_games:\n",
    "    if (n % partition == 0) or (n==0):\n",
    "        sys.stdout.write('\\r')\n",
    "        # the exact output you're looking for:\n",
    "        sys.stdout.write(\"[%-50s] %d%%\" % ('='*i, 2*i))\n",
    "        sys.stdout.flush()\n",
    "        i += 1\n",
    "    all_results.append(get_box_score_df(g_id))\n",
    "    sleep(0.25)\n",
    "    n += 1\n"
   ]
  }
 ],
 "metadata": {
  "kernelspec": {
   "display_name": "Python 3",
   "language": "python",
   "name": "python3"
  },
  "language_info": {
   "codemirror_mode": {
    "name": "ipython",
    "version": 3
   },
   "file_extension": ".py",
   "mimetype": "text/x-python",
   "name": "python",
   "nbconvert_exporter": "python",
   "pygments_lexer": "ipython3",
   "version": "3.8.3"
  }
 },
 "nbformat": 4,
 "nbformat_minor": 4
}
